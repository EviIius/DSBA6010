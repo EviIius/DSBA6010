{
  "cells": [
    {
      "cell_type": "code",
      "execution_count": 1,
      "metadata": {
        "colab": {
          "base_uri": "https://localhost:8080/",
          "height": 1000,
          "referenced_widgets": [
            "707027f88d8c4d18b36da657ada4cb1a",
            "d4a9fd0369a940088318eed1fc84187f",
            "d93f96a0b77844c39a869d97b15c3b31"
          ]
        },
        "collapsed": true,
        "id": "rhQLOBg5L-dM",
        "outputId": "7328e2f4-ca9e-4dfe-e569-9b0d24b40f9f"
      },
      "outputs": [
        {
          "name": "stdout",
          "output_type": "stream",
          "text": [
            "Requirement already satisfied: piml in /Users/jakebrulato/Documents/GitHub/DSBA6010/.venv/lib/python3.10/site-packages (0.6.0.post2)\n",
            "Requirement already satisfied: ipykernel in /Users/jakebrulato/Documents/GitHub/DSBA6010/.venv/lib/python3.10/site-packages (from piml) (6.29.5)\n",
            "Requirement already satisfied: ipywidgets>=7.7.0 in /Users/jakebrulato/Documents/GitHub/DSBA6010/.venv/lib/python3.10/site-packages (from piml) (8.1.5)\n",
            "Requirement already satisfied: joblib>=1.1.0 in /Users/jakebrulato/Documents/GitHub/DSBA6010/.venv/lib/python3.10/site-packages (from piml) (1.4.2)\n",
            "Requirement already satisfied: ipython>=7.12.0 in /Users/jakebrulato/Documents/GitHub/DSBA6010/.venv/lib/python3.10/site-packages (from piml) (8.27.0)\n",
            "Requirement already satisfied: numpy<1.24.0,>=1.21.4 in /Users/jakebrulato/Documents/GitHub/DSBA6010/.venv/lib/python3.10/site-packages (from piml) (1.23.5)\n",
            "Requirement already satisfied: scipy<=1.10.1,>=1.5.3 in /Users/jakebrulato/Documents/GitHub/DSBA6010/.venv/lib/python3.10/site-packages (from piml) (1.10.1)\n",
            "Requirement already satisfied: pandas<2.0.0,>=1.3.5 in /Users/jakebrulato/Documents/GitHub/DSBA6010/.venv/lib/python3.10/site-packages (from piml) (1.5.3)\n",
            "Requirement already satisfied: matplotlib<3.8.0,>=3.1.2 in /Users/jakebrulato/Documents/GitHub/DSBA6010/.venv/lib/python3.10/site-packages (from piml) (3.7.5)\n",
            "Requirement already satisfied: seaborn>=0.11.2 in /Users/jakebrulato/Documents/GitHub/DSBA6010/.venv/lib/python3.10/site-packages (from piml) (0.13.2)\n",
            "Requirement already satisfied: xlrd>=1.2.0 in /Users/jakebrulato/Documents/GitHub/DSBA6010/.venv/lib/python3.10/site-packages (from piml) (2.0.1)\n",
            "Requirement already satisfied: scikit-learn<1.4.0,>=0.24.2 in /Users/jakebrulato/Documents/GitHub/DSBA6010/.venv/lib/python3.10/site-packages (from piml) (1.3.2)\n",
            "Requirement already satisfied: xgboost>=1.4.2 in /Users/jakebrulato/Documents/GitHub/DSBA6010/.venv/lib/python3.10/site-packages (from piml) (2.1.1)\n",
            "Requirement already satisfied: statsmodels>=0.12.2 in /Users/jakebrulato/Documents/GitHub/DSBA6010/.venv/lib/python3.10/site-packages (from piml) (0.14.2)\n",
            "Requirement already satisfied: lime>=0.2.0.1 in /Users/jakebrulato/Documents/GitHub/DSBA6010/.venv/lib/python3.10/site-packages (from piml) (0.2.0.1)\n",
            "Requirement already satisfied: shap>=0.39.0 in /Users/jakebrulato/Documents/GitHub/DSBA6010/.venv/lib/python3.10/site-packages (from piml) (0.46.0)\n",
            "Requirement already satisfied: torch>=1.11.0 in /Users/jakebrulato/Documents/GitHub/DSBA6010/.venv/lib/python3.10/site-packages (from piml) (2.2.2)\n",
            "Requirement already satisfied: pygam==0.8.0 in /Users/jakebrulato/Documents/GitHub/DSBA6010/.venv/lib/python3.10/site-packages (from piml) (0.8.0)\n",
            "Requirement already satisfied: natsort>=8.2.0 in /Users/jakebrulato/Documents/GitHub/DSBA6010/.venv/lib/python3.10/site-packages (from piml) (8.4.0)\n",
            "Requirement already satisfied: psutil>=5.9.0 in /Users/jakebrulato/Documents/GitHub/DSBA6010/.venv/lib/python3.10/site-packages (from piml) (6.0.0)\n",
            "Requirement already satisfied: dill>=0.3.6 in /Users/jakebrulato/Documents/GitHub/DSBA6010/.venv/lib/python3.10/site-packages (from piml) (0.3.8)\n",
            "Requirement already satisfied: packaging>=20.5 in /Users/jakebrulato/Documents/GitHub/DSBA6010/.venv/lib/python3.10/site-packages (from piml) (24.1)\n",
            "Requirement already satisfied: networkx>=2.6.3 in /Users/jakebrulato/Documents/GitHub/DSBA6010/.venv/lib/python3.10/site-packages (from piml) (3.3)\n",
            "Requirement already satisfied: numba<0.57.0 in /Users/jakebrulato/Documents/GitHub/DSBA6010/.venv/lib/python3.10/site-packages (from piml) (0.56.4)\n",
            "Requirement already satisfied: jupyter-client<=7.4.9 in /Users/jakebrulato/Documents/GitHub/DSBA6010/.venv/lib/python3.10/site-packages (from piml) (7.4.9)\n",
            "Requirement already satisfied: optbinning>=0.17.3 in /Users/jakebrulato/Documents/GitHub/DSBA6010/.venv/lib/python3.10/site-packages (from piml) (0.19.0)\n",
            "Requirement already satisfied: momentchi2 in /Users/jakebrulato/Documents/GitHub/DSBA6010/.venv/lib/python3.10/site-packages (from piml) (0.1.8)\n",
            "Requirement already satisfied: future in /Users/jakebrulato/Documents/GitHub/DSBA6010/.venv/lib/python3.10/site-packages (from pygam==0.8.0->piml) (1.0.0)\n",
            "Requirement already satisfied: progressbar2 in /Users/jakebrulato/Documents/GitHub/DSBA6010/.venv/lib/python3.10/site-packages (from pygam==0.8.0->piml) (4.5.0)\n",
            "Requirement already satisfied: decorator in /Users/jakebrulato/Documents/GitHub/DSBA6010/.venv/lib/python3.10/site-packages (from ipython>=7.12.0->piml) (5.1.1)\n",
            "Requirement already satisfied: jedi>=0.16 in /Users/jakebrulato/Documents/GitHub/DSBA6010/.venv/lib/python3.10/site-packages (from ipython>=7.12.0->piml) (0.19.1)\n",
            "Requirement already satisfied: matplotlib-inline in /Users/jakebrulato/Documents/GitHub/DSBA6010/.venv/lib/python3.10/site-packages (from ipython>=7.12.0->piml) (0.1.7)\n",
            "Requirement already satisfied: prompt-toolkit<3.1.0,>=3.0.41 in /Users/jakebrulato/Documents/GitHub/DSBA6010/.venv/lib/python3.10/site-packages (from ipython>=7.12.0->piml) (3.0.47)\n",
            "Requirement already satisfied: pygments>=2.4.0 in /Users/jakebrulato/Documents/GitHub/DSBA6010/.venv/lib/python3.10/site-packages (from ipython>=7.12.0->piml) (2.18.0)\n",
            "Requirement already satisfied: stack-data in /Users/jakebrulato/Documents/GitHub/DSBA6010/.venv/lib/python3.10/site-packages (from ipython>=7.12.0->piml) (0.6.3)\n",
            "Requirement already satisfied: traitlets>=5.13.0 in /Users/jakebrulato/Documents/GitHub/DSBA6010/.venv/lib/python3.10/site-packages (from ipython>=7.12.0->piml) (5.14.3)\n",
            "Requirement already satisfied: exceptiongroup in /Users/jakebrulato/Documents/GitHub/DSBA6010/.venv/lib/python3.10/site-packages (from ipython>=7.12.0->piml) (1.2.2)\n",
            "Requirement already satisfied: typing-extensions>=4.6 in /Users/jakebrulato/Documents/GitHub/DSBA6010/.venv/lib/python3.10/site-packages (from ipython>=7.12.0->piml) (4.12.2)\n",
            "Requirement already satisfied: pexpect>4.3 in /Users/jakebrulato/Documents/GitHub/DSBA6010/.venv/lib/python3.10/site-packages (from ipython>=7.12.0->piml) (4.9.0)\n",
            "Requirement already satisfied: comm>=0.1.3 in /Users/jakebrulato/Documents/GitHub/DSBA6010/.venv/lib/python3.10/site-packages (from ipywidgets>=7.7.0->piml) (0.2.2)\n",
            "Requirement already satisfied: widgetsnbextension~=4.0.12 in /Users/jakebrulato/Documents/GitHub/DSBA6010/.venv/lib/python3.10/site-packages (from ipywidgets>=7.7.0->piml) (4.0.13)\n",
            "Requirement already satisfied: jupyterlab-widgets~=3.0.12 in /Users/jakebrulato/Documents/GitHub/DSBA6010/.venv/lib/python3.10/site-packages (from ipywidgets>=7.7.0->piml) (3.0.13)\n",
            "Requirement already satisfied: entrypoints in /Users/jakebrulato/Documents/GitHub/DSBA6010/.venv/lib/python3.10/site-packages (from jupyter-client<=7.4.9->piml) (0.4)\n",
            "Requirement already satisfied: jupyter-core>=4.9.2 in /Users/jakebrulato/Documents/GitHub/DSBA6010/.venv/lib/python3.10/site-packages (from jupyter-client<=7.4.9->piml) (5.7.2)\n",
            "Requirement already satisfied: nest-asyncio>=1.5.4 in /Users/jakebrulato/Documents/GitHub/DSBA6010/.venv/lib/python3.10/site-packages (from jupyter-client<=7.4.9->piml) (1.6.0)\n",
            "Requirement already satisfied: python-dateutil>=2.8.2 in /Users/jakebrulato/Documents/GitHub/DSBA6010/.venv/lib/python3.10/site-packages (from jupyter-client<=7.4.9->piml) (2.9.0.post0)\n",
            "Requirement already satisfied: pyzmq>=23.0 in /Users/jakebrulato/Documents/GitHub/DSBA6010/.venv/lib/python3.10/site-packages (from jupyter-client<=7.4.9->piml) (24.0.1)\n",
            "Requirement already satisfied: tornado>=6.2 in /Users/jakebrulato/Documents/GitHub/DSBA6010/.venv/lib/python3.10/site-packages (from jupyter-client<=7.4.9->piml) (6.4.1)\n",
            "Requirement already satisfied: tqdm in /Users/jakebrulato/Documents/GitHub/DSBA6010/.venv/lib/python3.10/site-packages (from lime>=0.2.0.1->piml) (4.66.5)\n",
            "Requirement already satisfied: scikit-image>=0.12 in /Users/jakebrulato/Documents/GitHub/DSBA6010/.venv/lib/python3.10/site-packages (from lime>=0.2.0.1->piml) (0.24.0)\n",
            "Requirement already satisfied: contourpy>=1.0.1 in /Users/jakebrulato/Documents/GitHub/DSBA6010/.venv/lib/python3.10/site-packages (from matplotlib<3.8.0,>=3.1.2->piml) (1.3.0)\n",
            "Requirement already satisfied: cycler>=0.10 in /Users/jakebrulato/Documents/GitHub/DSBA6010/.venv/lib/python3.10/site-packages (from matplotlib<3.8.0,>=3.1.2->piml) (0.12.1)\n",
            "Requirement already satisfied: fonttools>=4.22.0 in /Users/jakebrulato/Documents/GitHub/DSBA6010/.venv/lib/python3.10/site-packages (from matplotlib<3.8.0,>=3.1.2->piml) (4.53.1)\n",
            "Requirement already satisfied: kiwisolver>=1.0.1 in /Users/jakebrulato/Documents/GitHub/DSBA6010/.venv/lib/python3.10/site-packages (from matplotlib<3.8.0,>=3.1.2->piml) (1.4.5)\n",
            "Requirement already satisfied: pillow>=6.2.0 in /Users/jakebrulato/Documents/GitHub/DSBA6010/.venv/lib/python3.10/site-packages (from matplotlib<3.8.0,>=3.1.2->piml) (10.4.0)\n",
            "Requirement already satisfied: pyparsing>=2.3.1 in /Users/jakebrulato/Documents/GitHub/DSBA6010/.venv/lib/python3.10/site-packages (from matplotlib<3.8.0,>=3.1.2->piml) (3.1.4)\n",
            "Requirement already satisfied: llvmlite<0.40,>=0.39.0dev0 in /Users/jakebrulato/Documents/GitHub/DSBA6010/.venv/lib/python3.10/site-packages (from numba<0.57.0->piml) (0.39.1)\n",
            "Requirement already satisfied: setuptools in /Users/jakebrulato/Documents/GitHub/DSBA6010/.venv/lib/python3.10/site-packages (from numba<0.57.0->piml) (65.5.0)\n",
            "Requirement already satisfied: ortools>=9.4 in /Users/jakebrulato/Documents/GitHub/DSBA6010/.venv/lib/python3.10/site-packages (from optbinning>=0.17.3->piml) (9.7.2996)\n",
            "Requirement already satisfied: ropwr>=1.0.0 in /Users/jakebrulato/Documents/GitHub/DSBA6010/.venv/lib/python3.10/site-packages (from optbinning>=0.17.3->piml) (1.0.0)\n",
            "Requirement already satisfied: pytz>=2020.1 in /Users/jakebrulato/Documents/GitHub/DSBA6010/.venv/lib/python3.10/site-packages (from pandas<2.0.0,>=1.3.5->piml) (2024.1)\n",
            "Requirement already satisfied: threadpoolctl>=2.0.0 in /Users/jakebrulato/Documents/GitHub/DSBA6010/.venv/lib/python3.10/site-packages (from scikit-learn<1.4.0,>=0.24.2->piml) (3.5.0)\n",
            "Requirement already satisfied: slicer==0.0.8 in /Users/jakebrulato/Documents/GitHub/DSBA6010/.venv/lib/python3.10/site-packages (from shap>=0.39.0->piml) (0.0.8)\n",
            "Requirement already satisfied: cloudpickle in /Users/jakebrulato/Documents/GitHub/DSBA6010/.venv/lib/python3.10/site-packages (from shap>=0.39.0->piml) (3.0.0)\n",
            "Requirement already satisfied: patsy>=0.5.6 in /Users/jakebrulato/Documents/GitHub/DSBA6010/.venv/lib/python3.10/site-packages (from statsmodels>=0.12.2->piml) (0.5.6)\n",
            "Requirement already satisfied: filelock in /Users/jakebrulato/Documents/GitHub/DSBA6010/.venv/lib/python3.10/site-packages (from torch>=1.11.0->piml) (3.15.4)\n",
            "Requirement already satisfied: sympy in /Users/jakebrulato/Documents/GitHub/DSBA6010/.venv/lib/python3.10/site-packages (from torch>=1.11.0->piml) (1.13.2)\n",
            "Requirement already satisfied: jinja2 in /Users/jakebrulato/Documents/GitHub/DSBA6010/.venv/lib/python3.10/site-packages (from torch>=1.11.0->piml) (3.1.4)\n",
            "Requirement already satisfied: fsspec in /Users/jakebrulato/Documents/GitHub/DSBA6010/.venv/lib/python3.10/site-packages (from torch>=1.11.0->piml) (2024.6.1)\n",
            "Requirement already satisfied: appnope in /Users/jakebrulato/Documents/GitHub/DSBA6010/.venv/lib/python3.10/site-packages (from ipykernel->piml) (0.1.4)\n",
            "Requirement already satisfied: debugpy>=1.6.5 in /Users/jakebrulato/Documents/GitHub/DSBA6010/.venv/lib/python3.10/site-packages (from ipykernel->piml) (1.8.5)\n",
            "Requirement already satisfied: parso<0.9.0,>=0.8.3 in /Users/jakebrulato/Documents/GitHub/DSBA6010/.venv/lib/python3.10/site-packages (from jedi>=0.16->ipython>=7.12.0->piml) (0.8.4)\n",
            "Requirement already satisfied: platformdirs>=2.5 in /Users/jakebrulato/Documents/GitHub/DSBA6010/.venv/lib/python3.10/site-packages (from jupyter-core>=4.9.2->jupyter-client<=7.4.9->piml) (4.2.2)\n",
            "Requirement already satisfied: absl-py>=0.13 in /Users/jakebrulato/Documents/GitHub/DSBA6010/.venv/lib/python3.10/site-packages (from ortools>=9.4->optbinning>=0.17.3->piml) (2.1.0)\n",
            "Requirement already satisfied: protobuf>=4.23.3 in /Users/jakebrulato/Documents/GitHub/DSBA6010/.venv/lib/python3.10/site-packages (from ortools>=9.4->optbinning>=0.17.3->piml) (4.25.5)\n",
            "Requirement already satisfied: six in /Users/jakebrulato/Documents/GitHub/DSBA6010/.venv/lib/python3.10/site-packages (from patsy>=0.5.6->statsmodels>=0.12.2->piml) (1.16.0)\n",
            "Requirement already satisfied: ptyprocess>=0.5 in /Users/jakebrulato/Documents/GitHub/DSBA6010/.venv/lib/python3.10/site-packages (from pexpect>4.3->ipython>=7.12.0->piml) (0.7.0)\n",
            "Requirement already satisfied: wcwidth in /Users/jakebrulato/Documents/GitHub/DSBA6010/.venv/lib/python3.10/site-packages (from prompt-toolkit<3.1.0,>=3.0.41->ipython>=7.12.0->piml) (0.2.13)\n",
            "Requirement already satisfied: cvxpy>=1.1.14 in /Users/jakebrulato/Documents/GitHub/DSBA6010/.venv/lib/python3.10/site-packages (from ropwr>=1.0.0->optbinning>=0.17.3->piml) (1.5.3)\n",
            "Requirement already satisfied: imageio>=2.33 in /Users/jakebrulato/Documents/GitHub/DSBA6010/.venv/lib/python3.10/site-packages (from scikit-image>=0.12->lime>=0.2.0.1->piml) (2.35.1)\n",
            "Requirement already satisfied: tifffile>=2022.8.12 in /Users/jakebrulato/Documents/GitHub/DSBA6010/.venv/lib/python3.10/site-packages (from scikit-image>=0.12->lime>=0.2.0.1->piml) (2024.8.28)\n",
            "Requirement already satisfied: lazy-loader>=0.4 in /Users/jakebrulato/Documents/GitHub/DSBA6010/.venv/lib/python3.10/site-packages (from scikit-image>=0.12->lime>=0.2.0.1->piml) (0.4)\n",
            "Requirement already satisfied: MarkupSafe>=2.0 in /Users/jakebrulato/Documents/GitHub/DSBA6010/.venv/lib/python3.10/site-packages (from jinja2->torch>=1.11.0->piml) (2.1.5)\n",
            "Requirement already satisfied: python-utils>=3.8.1 in /Users/jakebrulato/Documents/GitHub/DSBA6010/.venv/lib/python3.10/site-packages (from progressbar2->pygam==0.8.0->piml) (3.8.2)\n",
            "Requirement already satisfied: executing>=1.2.0 in /Users/jakebrulato/Documents/GitHub/DSBA6010/.venv/lib/python3.10/site-packages (from stack-data->ipython>=7.12.0->piml) (2.0.1)\n",
            "Requirement already satisfied: asttokens>=2.1.0 in /Users/jakebrulato/Documents/GitHub/DSBA6010/.venv/lib/python3.10/site-packages (from stack-data->ipython>=7.12.0->piml) (2.4.1)\n",
            "Requirement already satisfied: pure-eval in /Users/jakebrulato/Documents/GitHub/DSBA6010/.venv/lib/python3.10/site-packages (from stack-data->ipython>=7.12.0->piml) (0.2.3)\n",
            "Requirement already satisfied: mpmath<1.4,>=1.1.0 in /Users/jakebrulato/Documents/GitHub/DSBA6010/.venv/lib/python3.10/site-packages (from sympy->torch>=1.11.0->piml) (1.3.0)\n",
            "Requirement already satisfied: osqp>=0.6.2 in /Users/jakebrulato/Documents/GitHub/DSBA6010/.venv/lib/python3.10/site-packages (from cvxpy>=1.1.14->ropwr>=1.0.0->optbinning>=0.17.3->piml) (0.6.7.post1)\n",
            "Requirement already satisfied: ecos>=2 in /Users/jakebrulato/Documents/GitHub/DSBA6010/.venv/lib/python3.10/site-packages (from cvxpy>=1.1.14->ropwr>=1.0.0->optbinning>=0.17.3->piml) (2.0.14)\n",
            "Requirement already satisfied: clarabel>=0.5.0 in /Users/jakebrulato/Documents/GitHub/DSBA6010/.venv/lib/python3.10/site-packages (from cvxpy>=1.1.14->ropwr>=1.0.0->optbinning>=0.17.3->piml) (0.9.0)\n",
            "Requirement already satisfied: scs>=3.2.4.post1 in /Users/jakebrulato/Documents/GitHub/DSBA6010/.venv/lib/python3.10/site-packages (from cvxpy>=1.1.14->ropwr>=1.0.0->optbinning>=0.17.3->piml) (3.2.7)\n",
            "Requirement already satisfied: qdldl in /Users/jakebrulato/Documents/GitHub/DSBA6010/.venv/lib/python3.10/site-packages (from osqp>=0.6.2->cvxpy>=1.1.14->ropwr>=1.0.0->optbinning>=0.17.3->piml) (0.1.7.post4)\n"
          ]
        }
      ],
      "source": [
        "!pip install piml"
      ]
    },
    {
      "cell_type": "markdown",
      "metadata": {
        "id": "f9GgnwtQeFIo"
      },
      "source": [
        "# Data Pipeline"
      ]
    },
    {
      "cell_type": "code",
      "execution_count": 2,
      "metadata": {
        "colab": {
          "base_uri": "https://localhost:8080/",
          "height": 21,
          "referenced_widgets": [
            "40c1409490ce413b95960092db060238",
            "0d04940467fd43e79418c7101d75ae34",
            "99f3a8322f0949468f49d0fd0daca719"
          ]
        },
        "id": "bn7mYavDeDLK",
        "outputId": "145d1a42-d094-4479-fd25-d3bbc20532f5"
      },
      "outputs": [],
      "source": [
        "from piml import Experiment\n",
        "exp_tw_credit = Experiment()\n",
        "exp_bike_sharing = Experiment()\n",
        "exp_tw_credit.data_loader(\"TaiwanCredit\", silent=True)\n",
        "exp_bike_sharing.data_loader(\"BikeSharing\", silent=True)"
      ]
    },
    {
      "cell_type": "code",
      "execution_count": 3,
      "metadata": {},
      "outputs": [
        {
          "data": {
            "application/vnd.jupyter.widget-view+json": {
              "model_id": "e4a38ab9776447538394c8816f631ad4",
              "version_major": 2,
              "version_minor": 0
            },
            "text/plain": [
              "HTML(value='\\n        <style>\\n\\n        .left-label {\\n            width: 30%;\\n        }\\n\\n        .card-pa…"
            ]
          },
          "metadata": {},
          "output_type": "display_data"
        },
        {
          "data": {
            "application/vnd.jupyter.widget-view+json": {
              "model_id": "d4f0affdeb744d25a22e7f99577e533a",
              "version_major": 2,
              "version_minor": 0
            },
            "text/plain": [
              "HTML(value='<link rel=\"stylesheet\" href=\"//stackpath.bootstrapcdn.com/font-awesome/4.7.0/css/font-awesome.min.…"
            ]
          },
          "metadata": {},
          "output_type": "display_data"
        },
        {
          "data": {
            "application/vnd.jupyter.widget-view+json": {
              "model_id": "bb998e90bdaf456d8827770a0b5f9f90",
              "version_major": 2,
              "version_minor": 0
            },
            "text/plain": [
              "VBox(children=(HTML(value='Data Shape:(30000, 24)'), Tab(children=(Output(), Output()), selected_index=0, titl…"
            ]
          },
          "metadata": {},
          "output_type": "display_data"
        },
        {
          "data": {
            "application/vnd.jupyter.widget-view+json": {
              "model_id": "18e0d9ab46f347a6bdd77e59e65ff4d0",
              "version_major": 2,
              "version_minor": 0
            },
            "text/plain": [
              "HTML(value='<link rel=\"stylesheet\" href=\"//stackpath.bootstrapcdn.com/font-awesome/4.7.0/css/font-awesome.min.…"
            ]
          },
          "metadata": {},
          "output_type": "display_data"
        },
        {
          "data": {
            "application/vnd.jupyter.widget-view+json": {
              "model_id": "e978c98f87284891a5851e81d0474e34",
              "version_major": 2,
              "version_minor": 0
            },
            "text/plain": [
              "VBox(children=(HTML(value='Data Shape:(17379, 13)'), Tab(children=(Output(), Output()), selected_index=0, titl…"
            ]
          },
          "metadata": {},
          "output_type": "display_data"
        }
      ],
      "source": [
        "# Display data summary tables\n",
        "tw_credit_summary = exp_tw_credit.data_summary()\n",
        "bike_sharing_summary = exp_bike_sharing.data_summary()"
      ]
    },
    {
      "cell_type": "markdown",
      "metadata": {
        "id": "N93wznVqfTxE"
      },
      "source": [
        "### Q1 (5pts): Using PiML, show data summary tables for both data sets.  What is the max value of `cnt` in the bike share data?  How many unique values are there in the `EDUCATION` data point of the Taiwan credit data?"
      ]
    },
    {
      "cell_type": "markdown",
      "metadata": {
        "id": "UU7FfXiGlM8D"
      },
      "source": [
        "- #### There are 4 unique values for Education and 977 is the max value for 'cnt'"
      ]
    },
    {
      "cell_type": "markdown",
      "metadata": {
        "id": "1MM6lcX0f9AK"
      },
      "source": [
        "# Model Pipeline"
      ]
    },
    {
      "cell_type": "code",
      "execution_count": 4,
      "metadata": {
        "colab": {
          "base_uri": "https://localhost:8080/",
          "height": 21,
          "referenced_widgets": [
            "b24ff9a01c6e4fa2bd612de9fbf6ffbf",
            "cc0cef68aa6e4f6387ab16457440ff62",
            "49081da922674675a28896fe21a37c18"
          ]
        },
        "id": "LaBO7u46f3Pa",
        "outputId": "9e785c2f-d1c4-417a-86d4-12bfce21dd76"
      },
      "outputs": [
        {
          "data": {
            "application/vnd.jupyter.widget-view+json": {
              "model_id": "c45980db61834b33a48da4db6893606b",
              "version_major": 2,
              "version_minor": 0
            },
            "text/plain": [
              "HTML(value='\\n        <style>\\n\\n        .left-label {\\n            width: 30%;\\n        }\\n\\n        .card-pa…"
            ]
          },
          "metadata": {},
          "output_type": "display_data"
        }
      ],
      "source": [
        "from xgboost import XGBClassifier, XGBRegressor\n",
        "from sklearn.neural_network import MLPClassifier, MLPRegressor\n",
        "\n",
        "exp_bike_sharing.data_prepare(random_state=100, target=\"cnt\", test_ratio=0.2, task_type=\"regression\", split_method=\"random\", silent=True)\n",
        "exp_tw_credit.data_prepare(random_state=100, target=\"FlagDefault\", test_ratio=0.2, task_type=\"classification\", split_method=\"random\", silent=True)\n",
        "\n",
        "exp_bike_sharing.model_train(model=XGBRegressor(max_depth=5, n_estimators=500), name=\"XGB_Bike_Sharing\")\n",
        "exp_bike_sharing.model_train(model=MLPRegressor(hidden_layer_sizes=[10]*2, activation=\"relu\", random_state=0, early_stopping=True), name=\"DNN_Bike_Sharing\")\n",
        "\n",
        "exp_tw_credit.model_train(model=XGBClassifier(max_depth=5, n_estimators=500), name=\"XGB_TW_Credit\")\n",
        "exp_tw_credit.model_train(model=MLPClassifier(hidden_layer_sizes=[10]*2, activation=\"relu\", random_state=0, early_stopping=True), name=\"DNN_TW_Credit\")"
      ]
    },
    {
      "cell_type": "markdown",
      "metadata": {
        "id": "GUQGUdOehzzi"
      },
      "source": [
        "### Q2 (5pts): What does the `random_state` parameter do?  Will the XGB model for the bike sharing data turn out identical every time you run the code above?"
      ]
    },
    {
      "cell_type": "markdown",
      "metadata": {
        "id": "kKcyK6YTlTDN"
      },
      "source": [
        "- #### The random_state parameter is used to create reproducibility in models and processes that involve randomness. By setting a fixed value for random_state, you make sure that the random processes involved (such as random splits in data or initialization of model weights) are performed in the same way every time the code is run. XGBoost has multiple areas that have randomness and random state cannot control those creating similar outputs."
      ]
    },
    {
      "cell_type": "markdown",
      "metadata": {
        "id": "942uJD2ytngH"
      },
      "source": [
        "### Q3 (2.5pts): What are the hyperparameters specified in each type of model?\n"
      ]
    },
    {
      "cell_type": "markdown",
      "metadata": {
        "id": "EobRdZbJlWGR"
      },
      "source": [
        "- #### XGB model hyperparameters are max_depth and n_estimators, MLP model hyperparameters are ' hidden_layer_sizes, activation function, random state, and early stopping,"
      ]
    },
    {
      "cell_type": "markdown",
      "metadata": {
        "id": "PaVNk5FUzQnW"
      },
      "source": [
        "## Bike sharing dataset with XGB model and DNN model"
      ]
    },
    {
      "cell_type": "markdown",
      "metadata": {
        "id": "tV67CkcLkYJk"
      },
      "source": [
        "### Q4 (10 pts): Compute the reliability table (including empirical coverage and average bandwidth) of the two Bike Sharing models; which model is more reliable?"
      ]
    },
    {
      "cell_type": "code",
      "execution_count": 9,
      "metadata": {
        "id": "QjlMncxrlbD2"
      },
      "outputs": [
        {
          "data": {
            "application/vnd.jupyter.widget-view+json": {
              "model_id": "d0339a2d697c4067b8562164c504baf9",
              "version_major": 2,
              "version_minor": 0
            },
            "text/plain": [
              "HTML(value='\\n        <style>\\n\\n        .left-label {\\n            width: 30%;\\n        }\\n\\n        .card-pa…"
            ]
          },
          "metadata": {},
          "output_type": "display_data"
        },
        {
          "data": {
            "text/html": [
              "<div>\n",
              "<style scoped>\n",
              "    .dataframe tbody tr th:only-of-type {\n",
              "        vertical-align: middle;\n",
              "    }\n",
              "\n",
              "    .dataframe tbody tr th {\n",
              "        vertical-align: top;\n",
              "    }\n",
              "\n",
              "    .dataframe thead th {\n",
              "        text-align: right;\n",
              "    }\n",
              "</style>\n",
              "<table border=\"1\" class=\"dataframe\">\n",
              "  <thead>\n",
              "    <tr style=\"text-align: right;\">\n",
              "      <th></th>\n",
              "      <th>Empirical Coverage</th>\n",
              "      <th>Average Bandwidth</th>\n",
              "    </tr>\n",
              "  </thead>\n",
              "  <tbody>\n",
              "    <tr>\n",
              "      <th>0</th>\n",
              "      <td>0.8813</td>\n",
              "      <td>0.1042</td>\n",
              "    </tr>\n",
              "  </tbody>\n",
              "</table>\n",
              "</div>"
            ],
            "text/plain": [
              "  Empirical Coverage Average Bandwidth\n",
              "0             0.8813            0.1042"
            ]
          },
          "metadata": {},
          "output_type": "display_data"
        },
        {
          "data": {
            "text/html": [
              "<div>\n",
              "<style scoped>\n",
              "    .dataframe tbody tr th:only-of-type {\n",
              "        vertical-align: middle;\n",
              "    }\n",
              "\n",
              "    .dataframe tbody tr th {\n",
              "        vertical-align: top;\n",
              "    }\n",
              "\n",
              "    .dataframe thead th {\n",
              "        text-align: right;\n",
              "    }\n",
              "</style>\n",
              "<table border=\"1\" class=\"dataframe\">\n",
              "  <thead>\n",
              "    <tr style=\"text-align: right;\">\n",
              "      <th></th>\n",
              "      <th>Empirical Coverage</th>\n",
              "      <th>Average Bandwidth</th>\n",
              "    </tr>\n",
              "  </thead>\n",
              "  <tbody>\n",
              "    <tr>\n",
              "      <th>0</th>\n",
              "      <td>0.8856</td>\n",
              "      <td>0.1874</td>\n",
              "    </tr>\n",
              "  </tbody>\n",
              "</table>\n",
              "</div>"
            ],
            "text/plain": [
              "  Empirical Coverage Average Bandwidth\n",
              "0             0.8856            0.1874"
            ]
          },
          "metadata": {},
          "output_type": "display_data"
        }
      ],
      "source": [
        "# Evaluate the reliability for the XGBoost model\n",
        "reliability_xgb = exp_bike_sharing.model_diagnose(model=\"XGB_Bike_Sharing\", show=\"reliability_table\")\n",
        "\n",
        "# Evaluate the reliability for the DNN model\n",
        "reliability_dnn = exp_bike_sharing.model_diagnose(model=\"DNN_Bike_Sharing\", show=\"reliability_table\")"
      ]
    },
    {
      "cell_type": "markdown",
      "metadata": {
        "id": "LJ8aKHoElbvv"
      },
      "source": [
        "- #### XGBoost has a more narrow bandwith, making it more likely to be reliable than the DNN."
      ]
    },
    {
      "cell_type": "markdown",
      "metadata": {
        "id": "gHkxOSaSssOj"
      },
      "source": [
        "### Q5 (5 pts): Use the `reliability_distance` function in PiML on the XGB model of the bike sharing data.  List the top 5 features that have the largest distributional distance between unreliable regions and reliable regions based on PSI score. (You can use the defaults for all other arguments of `model_diagnose`)\n"
      ]
    },
    {
      "cell_type": "code",
      "execution_count": 19,
      "metadata": {
        "id": "WZTc2MIVlsBe"
      },
      "outputs": [
        {
          "data": {
            "application/vnd.jupyter.widget-view+json": {
              "model_id": "0766f980089c479abe772a6165669163",
              "version_major": 2,
              "version_minor": 0
            },
            "text/plain": [
              "HTML(value='\\n        <style>\\n\\n        .left-label {\\n            width: 30%;\\n        }\\n\\n        .card-pa…"
            ]
          },
          "metadata": {},
          "output_type": "display_data"
        },
        {
          "data": {
            "image/png": "[encoded data removed]",
            "text/plain": [
              "<Figure size 800x600 with 1 Axes>"
            ]
          },
          "metadata": {},
          "output_type": "display_data"
        }
      ],
      "source": [
        "exp_bike_sharing.model_diagnose(model=\"XGB_Bike_Sharing\", show=\"reliability_distance\")"
      ]
    },
    {
      "cell_type": "markdown",
      "metadata": {
        "id": "Mml9qI5CltYE"
      },
      "source": [
        "- ### Top 5 Features:\n",
        "- #### XGB: atemp, mnth, temp, season, hr"
      ]
    },
    {
      "cell_type": "markdown",
      "metadata": {
        "id": "HFqsQ6HixsfT"
      },
      "source": [
        "### Q6 (5 pts): Do the same analysis as in Q5, but use a threshold of 1.3.  Why did the PSI values increase?\n"
      ]
    },
    {
      "cell_type": "code",
      "execution_count": 20,
      "metadata": {
        "id": "Bnz5aKIxl4Nc"
      },
      "outputs": [
        {
          "data": {
            "application/vnd.jupyter.widget-view+json": {
              "model_id": "82b83530631747559363e767ecf6bef6",
              "version_major": 2,
              "version_minor": 0
            },
            "text/plain": [
              "HTML(value='\\n        <style>\\n\\n        .left-label {\\n            width: 30%;\\n        }\\n\\n        .card-pa…"
            ]
          },
          "metadata": {},
          "output_type": "display_data"
        },
        {
          "data": {
            "image/png": "[encoded data removed]",
            "text/plain": [
              "<Figure size 800x600 with 1 Axes>"
            ]
          },
          "metadata": {},
          "output_type": "display_data"
        }
      ],
      "source": [
        "exp_bike_sharing.model_diagnose(model=\"XGB_Bike_Sharing\", show=\"reliability_distance\", threshold= 1.3)"
      ]
    },
    {
      "cell_type": "markdown",
      "metadata": {
        "id": "_47OTEXol0Ge"
      },
      "source": [
        "- #### Setting a threshold redefined the region that is considered unreliable changing the impact on the distribution. What was defined as unreliable or not in the previous graphs has changed creating higher PSI values."
      ]
    },
    {
      "cell_type": "markdown",
      "metadata": {
        "id": "wrg4eilK3NMh"
      },
      "source": [
        "### Q7 (2.5 pts): Do the same analysis as in Q6, but use the Wasserstein distance measure instead of PSI.  Are the results the same?\n"
      ]
    },
    {
      "cell_type": "code",
      "execution_count": 21,
      "metadata": {
        "id": "TnCHtR8Ll7sW"
      },
      "outputs": [
        {
          "data": {
            "application/vnd.jupyter.widget-view+json": {
              "model_id": "18203ade69c64a26ab06b2191095e33a",
              "version_major": 2,
              "version_minor": 0
            },
            "text/plain": [
              "HTML(value='\\n        <style>\\n\\n        .left-label {\\n            width: 30%;\\n        }\\n\\n        .card-pa…"
            ]
          },
          "metadata": {},
          "output_type": "display_data"
        },
        {
          "data": {
            "image/png": "[encoded data removed]",
            "text/plain": [
              "<Figure size 800x600 with 1 Axes>"
            ]
          },
          "metadata": {},
          "output_type": "display_data"
        }
      ],
      "source": [
        "exp_bike_sharing.model_diagnose(model=\"XGB_Bike_Sharing\", show=\"reliability_distance\", threshold= 1.3, distance_metric='WD1')"
      ]
    },
    {
      "cell_type": "markdown",
      "metadata": {
        "id": "wGuYGqzVl8H6"
      },
      "source": []
    },
    {
      "cell_type": "markdown",
      "metadata": {
        "id": "d6VMgkcY6gSo"
      },
      "source": [
        "### Q8 (5 pts): Do the same analysis as in Q5, but for the DNN model.  Are the results the same as Q5?  Why or why not?\n"
      ]
    },
    {
      "cell_type": "code",
      "execution_count": null,
      "metadata": {
        "id": "CmqwSyiB-7jf"
      },
      "outputs": [],
      "source": []
    },
    {
      "cell_type": "markdown",
      "metadata": {
        "id": "um5_gv8bmILC"
      },
      "source": []
    },
    {
      "cell_type": "markdown",
      "metadata": {
        "id": "KWacUWhC-CD1"
      },
      "source": [
        "### Q9 (5 pts): How could the analysis above help you if you were in charge of monitoring a model in production?"
      ]
    },
    {
      "cell_type": "markdown",
      "metadata": {
        "id": "LozXD5KfmKoK"
      },
      "source": []
    },
    {
      "cell_type": "markdown",
      "metadata": {
        "id": "3Yg_YyxgyT2S"
      },
      "source": [
        "### Q10 (5 pts): For the `XGB_Bike_Sharing` model, write the PiML code to show the weak regions of the `hr` feature.  Use MSE as the measurement metric and include the test data in the results.  Use the `histogram` method for slicing.\n",
        "\n",
        "\n",
        "\n"
      ]
    },
    {
      "cell_type": "code",
      "execution_count": null,
      "metadata": {
        "id": "aLZsK_MQmOSd"
      },
      "outputs": [],
      "source": []
    },
    {
      "cell_type": "markdown",
      "metadata": {
        "id": "kBKAhMoL87wr"
      },
      "source": [
        "### Q11 (5 pts): Is hour 3 or hour 4 part of a weak region in the analysis of Q10?"
      ]
    },
    {
      "cell_type": "markdown",
      "metadata": {
        "id": "7bFQkEnWmS3C"
      },
      "source": []
    },
    {
      "cell_type": "markdown",
      "metadata": {
        "id": "TJvoXGVKC6zX"
      },
      "source": [
        "### Q12 (5 pts): If you do the same analysis of Q10 for the DNN model, does it have the same weak regions for the `hr` feature?"
      ]
    },
    {
      "cell_type": "code",
      "execution_count": null,
      "metadata": {
        "id": "dSADTh8GmbZg"
      },
      "outputs": [],
      "source": []
    },
    {
      "cell_type": "markdown",
      "metadata": {
        "id": "Y0a17TvlmWO9"
      },
      "source": []
    },
    {
      "cell_type": "markdown",
      "metadata": {
        "id": "kAfwHgSV82h9"
      },
      "source": [
        "### Q13 (5 pts): Do these weak regions mean that the model should not be used?  What might be done to improve the model in these regions?"
      ]
    },
    {
      "cell_type": "markdown",
      "metadata": {
        "id": "cTjDcLxRmeav"
      },
      "source": []
    },
    {
      "cell_type": "markdown",
      "metadata": {
        "id": "sc7VgHtn0qlA"
      },
      "source": [
        "### Q14 (10 pts): For the DNN model on the bike sharing data, analyze the weak spots for the `workingday` feature, based on testing data and MSE metric and historgram slicing.  What is the number of test samples in the weak region?  What is the difference from the test samples in the weak region to the MSE of the test data in the overall model?\n"
      ]
    },
    {
      "cell_type": "code",
      "execution_count": null,
      "metadata": {
        "id": "jtQ_FIj6mkT7"
      },
      "outputs": [],
      "source": []
    },
    {
      "cell_type": "markdown",
      "metadata": {
        "id": "Z1EWMgbYmlP3"
      },
      "source": []
    },
    {
      "cell_type": "markdown",
      "metadata": {
        "id": "MSKAbFX_2qH4"
      },
      "source": [
        "### Q15 (10 pts): Compare the MSE and R2 for the two models used in biking sharing data set, for both training sample and testing. Plot the box plot for MSE and bar plot for R2.  Which model performs better based on out-of-sample evaluation metrics?"
      ]
    },
    {
      "cell_type": "code",
      "execution_count": null,
      "metadata": {
        "id": "Tka0BZjZmr9P"
      },
      "outputs": [],
      "source": []
    },
    {
      "cell_type": "markdown",
      "metadata": {
        "id": "vB0Gn5aimsyR"
      },
      "source": []
    },
    {
      "cell_type": "markdown",
      "metadata": {
        "id": "mll80KmNzeg8"
      },
      "source": [
        "## Taiwan (TW) credit dataset with XGB model and DNN model"
      ]
    },
    {
      "cell_type": "markdown",
      "metadata": {
        "id": "v5cM1M444cfN"
      },
      "source": [
        "### Q16 (10 pts): Different from regression models, what may need to be calibrated in a classification model?  Use PiML to plot the reliability diagrams (or calibration curves) for both of the Taiwan credit data set models.  Then add a copy of that plot with 100 bins.  Which model is more reliable before calibration for the Taiwan credit data set?"
      ]
    },
    {
      "cell_type": "code",
      "execution_count": null,
      "metadata": {
        "id": "kDi7qZ0Fm_F1"
      },
      "outputs": [],
      "source": []
    },
    {
      "cell_type": "markdown",
      "metadata": {
        "id": "bLFTogNUm46H"
      },
      "source": []
    },
    {
      "cell_type": "markdown",
      "metadata": {
        "id": "yi0pVCeGwIAQ"
      },
      "source": [
        "### Q17 (5 pts): For the two models of TW credit dataset, which model performs better and why? Does any model potentially have overfitting problem and why?"
      ]
    },
    {
      "cell_type": "markdown",
      "metadata": {
        "id": "KmnC9xlbnBIX"
      },
      "source": []
    },
    {
      "cell_type": "code",
      "execution_count": null,
      "metadata": {
        "id": "GQY0hr2OyJEz"
      },
      "outputs": [],
      "source": []
    }
  ],
  "metadata": {
    "colab": {
      "provenance": []
    },
    "kernelspec": {
      "display_name": ".venv",
      "language": "python",
      "name": "python3"
    },
    "language_info": {
      "codemirror_mode": {
        "name": "ipython",
        "version": 3
      },
      "file_extension": ".py",
      "mimetype": "text/x-python",
      "name": "python",
      "nbconvert_exporter": "python",
      "pygments_lexer": "ipython3",
      "version": "3.10.11"
    },
    "widgets": {
      "application/vnd.jupyter.widget-state+json": {
        "0d04940467fd43e79418c7101d75ae34": {
          "model_module": "@jupyter-widgets/base",
          "model_module_version": "1.2.0",
          "model_name": "LayoutModel",
          "state": {
            "_model_module": "@jupyter-widgets/base",
            "_model_module_version": "1.2.0",
            "_model_name": "LayoutModel",
            "_view_count": null,
            "_view_module": "@jupyter-widgets/base",
            "_view_module_version": "1.2.0",
            "_view_name": "LayoutView",
            "align_content": null,
            "align_items": null,
            "align_self": null,
            "border": null,
            "bottom": null,
            "display": null,
            "flex": null,
            "flex_flow": null,
            "grid_area": null,
            "grid_auto_columns": null,
            "grid_auto_flow": null,
            "grid_auto_rows": null,
            "grid_column": null,
            "grid_gap": null,
            "grid_row": null,
            "grid_template_areas": null,
            "grid_template_columns": null,
            "grid_template_rows": null,
            "height": null,
            "justify_content": null,
            "justify_items": null,
            "left": null,
            "margin": null,
            "max_height": null,
            "max_width": null,
            "min_height": null,
            "min_width": null,
            "object_fit": null,
            "object_position": null,
            "order": null,
            "overflow": null,
            "overflow_x": null,
            "overflow_y": null,
            "padding": null,
            "right": null,
            "top": null,
            "visibility": null,
            "width": null
          }
        },
        "40c1409490ce413b95960092db060238": {
          "model_module": "@jupyter-widgets/controls",
          "model_module_version": "1.5.0",
          "model_name": "HTMLModel",
          "state": {
            "_dom_classes": [],
            "_model_module": "@jupyter-widgets/controls",
            "_model_module_version": "1.5.0",
            "_model_name": "HTMLModel",
            "_view_count": null,
            "_view_module": "@jupyter-widgets/controls",
            "_view_module_version": "1.5.0",
            "_view_name": "HTMLView",
            "description": "",
            "description_tooltip": null,
            "layout": "IPY_MODEL_0d04940467fd43e79418c7101d75ae34",
            "placeholder": "​",
            "style": "IPY_MODEL_99f3a8322f0949468f49d0fd0daca719",
            "value": "\n        <style>\n\n        .left-label {\n            width: 30%;\n        }\n\n        .card-panel {\n            -webkit-transition: -webkit-box-shadow .25s;\n            transition: -webkit-box-shadow .25s;\n            transition: box-shadow .25s;\n            transition: box-shadow .25s, -webkit-box-shadow .25s;\n            padding: 24px;\n            margin: 0.5rem 0 1rem 0;\n            border-radius: 2px;\n            background-color: #fff;\n        }\n\n        .card {\n            position: relative;\n            margin: 0.5rem 0.1rem 1rem 0.2rem;\n            background-color: #fff;\n            -webkit-transition: -webkit-box-shadow .25s;\n            transition: -webkit-box-shadow .25s;\n            transition: box-shadow .25s;\n            transition: box-shadow .25s, -webkit-box-shadow .25s;\n            border-radius: 2px;\n            box-shadow: 0 2px 2px 0 rgb(0 0 0 / 14%), 0 3px 1px -2px rgb(0 0 0 / 12%), 0 1px 5px 0 rgb(0 0 0 / 20%);\n            padding: 24px;\n            color: white;\n        }\n\n        .card .card-title {\n            font-size: 24px;\n            font-weight: 300;\n        }\n\n        @media only screen and (min-width: 800px) {\n            /* For notebook: */\n            .card {width: 99% !important;}\n        }\n\n        @media only screen and (min-width: 1400px) {\n            /* For colab: */\n            .card {width: 99% !important;}\n        }\n\n        .blue-grey.darken-1 {\n            background-color: #546e7a !important;\n        }\n\n        .small-card {\n            position: relative;\n            margin: 0.5rem 0 1rem 0;\n            background-color: #fff;\n            -webkit-transition: -webkit-box-shadow .25s;\n            transition: -webkit-box-shadow .25s;\n            transition: box-shadow .25s;\n            transition: box-shadow .25s, -webkit-box-shadow .25s;\n            border-radius: 2px;\n            box-shadow: 0 2px 2px 0 rgb(0 0 0 / 14%), 0 3px 1px -2px rgb(0 0 0 / 12%), 0 1px 5px 0 rgb(0 0 0 / 20%);\n            padding: 0px 5px 0px 5px;\n            color: white;\n        }\n\n        .inner-card {\n            position: relative;\n            background-color: #fff;\n            -webkit-transition: -webkit-box-shadow .25s;\n            transition: -webkit-box-shadow .25s;\n            transition: box-shadow .25s;\n            transition: box-shadow .25s, -webkit-box-shadow .25s;\n            border-radius: 2px;\n            box-shadow: 0 2px 2px 0 rgb(0 0 0 / 14%), 0 3px 1px -2px rgb(0 0 0 / 12%), 0 1px 5px 0 rgb(0 0 0 / 20%);\n            padding: 20px;\n            color: white;\n            margin: 0px 1px 1px 1px;\n        }\n\n        .card-with-tab {\n            position: relative;\n            margin: 0.5rem 0.1rem 1rem 0.2rem;\n            background-color: #fff;\n            -webkit-transition: -webkit-box-shadow .25s;\n            transition: -webkit-box-shadow .25s;\n            transition: box-shadow .25s;\n            transition: box-shadow .25s, -webkit-box-shadow .25s;\n            border-radius: 2px;\n            box-shadow: 0 2px 2px 0 rgb(0 0 0 / 14%), 0 3px 1px -2px rgb(0 0 0 / 12%), 0 1px 5px 0 rgb(0 0 0 / 20%);\n            padding: 24px;\n            color: white;\n        }\n\n        .card-with-tab button {\n            width: auto;\n            padding: 12px 40px;\n        }\n\n        .list {\n            padding: 0px 10px;\n            box-shadow: 0 2px 2px 0 rgb(0 0 0 / 14%), 0 3px 1px -2px rgb(0 0 0 / 12%), 0 1px 5px 0 rgb(0 0 0 / 20%);\n            margin: 0px 1px 60px 1px;\n        }\n\n        .list-item {\n            padding: 10px 0px;\n            border-width: 0;\n            border-style: solid;\n            border-color: rgba(0, 0, 0, 0.08);\n            border-bottom-width: thin;\n        }\n\n        .divider {\n            margin: 10px 0px;\n            border-width: 0;\n            border-style: solid;\n            border-color: rgba(0, 0, 0, 0.08);\n            border-bottom-width: thin;\n        }\n\n        .hr {\n            margin: 0;\n            -webkit-flex-shrink: 0;\n            -ms-flex-negative: 0;\n            flex-shrink: 0;\n            border-width: 0;\n            border-style: solid;\n            border-color: rgba(0, 0, 0, 0.08);\n            border-bottom-width: thin;\n        }\n\n        .notification {\n            transition: box-shadow 300ms cubic-bezier(0.4, 0, 0.2, 1) 0ms;\n            border-radius: 4px;\n            box-shadow: 0 2px 2px 0 rgb(0 0 0 / 14%), 0 3px 1px -2px rgb(0 0 0 / 12%), 0 1px 5px 0 rgb(0 0 0 / 20%);\n            font-family: Roboto, Helvetica, Arial, sans-serif;\n            font-weight: 500;\n            font-size: 12px;\n            line-height: 1.43;\n            letter-spacing: 0.01071em;\n            background-color: rgb(2, 136, 209);\n            display: flex;\n            padding: 6px 16px;\n            color: rgb(255, 255, 255);\n            margin-top: 10px;\n        }\n\n        .success {\n            background-color: #EDF7ED;\n            color: #1E4620;\n        }\n\n        .error {\n            background-color: #FDEDED;\n            color: #5F2120;\n        }\n\n        .info {\n            background-color: #E5F6FD;\n            color: #528298;\n        }\n\n        .warn {\n            background-color: #FFF4E5;\n            color: #663C00;\n        }\n\n        .margin-top-20 {\n            margin-top: 20px;\n        }\n\n        .hide {\n            display: none;\n        }\n\n        .pbtn {\n            display: inline-flex;\n            -webkit-box-align: center;\n            align-items: center;\n            -webkit-box-pack: center;\n            justify-content: center;\n            position: relative;\n            box-sizing: border-box;\n            -webkit-tap-highlight-color: transparent;\n            outline: 0px;\n            border: 0px;\n            margin: 0px;\n            cursor: pointer;\n            user-select: none;\n            vertical-align: middle;\n            appearance: none;\n            text-decoration: none;\n            font-family: Roboto, Helvetica, Arial, sans-serif;\n            font-weight: 550;\n            font-size: 12px;\n            line-height: 1.75;\n            letter-spacing: 0.02857em;\n            text-transform: uppercase;\n            min-width: 64px;\n            padding: 6px 16px;\n            border-radius: 4px;\n            transition: background-color 250ms cubic-bezier(0.4, 0, 0.2, 1) 0ms, box-shadow 250ms cubic-bezier(0.4, 0, 0.2, 1) 0ms, border-color 250ms cubic-bezier(0.4, 0, 0.2, 1) 0ms, color 250ms cubic-bezier(0.4, 0, 0.2, 1) 0ms;\n            color: rgb(255, 255, 255);\n            background-color: #D71E28;\n            box-shadow: rgb(0 0 0 / 20%) 0px 3px 1px -2px, rgb(0 0 0 / 14%) 0px 2px 2px 0px, rgb(0 0 0 / 12%) 0px 1px 5px 0px;\n        }\n\n        .jp-OutputArea-output {\n            flex-grow: 1;\n            flex-shrink: 1;\n            margin: 0px;\n        }\n\n        .output_subarea {\n            padding: 0px !important;\n        }\n\n        .ptable, .pth, .ptd {\n            border: none;\n        }\n\n        .pth, .ptd {\n            max-width: 150px;\n            white-space: nowrap;\n            overflow: hidden;\n            -o-text-overflow: ellipsis;\n            -ms-text-overflow: ellipsis;\n            text-overflow: ellipsis;\n        }\n\n        .ptable {\n            display: table;\n            border-collapse: collapse;\n            border-spacing: 0;\n        }\n\n        .ptable.striped .ptr {\n            border-bottom: none;\n        }\n\n        .ptable.striped > .ptbody > .ptr:nth-child(odd) {\n            background-color: rgba(242, 242, 242, 0.5);\n        }\n\n        .ptable.striped > .ptbody > .ptr > .ptd {\n            border-radius: 0;\n        }\n\n        .ptable.highlight > .ptbody > .ptr {\n            -webkit-transition: background-color .25s ease;\n            transition: background-color .25s ease;\n        }\n\n        .ptable.highlight > .ptbody > .ptr:hover {\n            background-color: rgba(242, 242, 242, 0.5);\n        }\n\n        .ptable.centered .pthead .ptr .pth, .ptable.centered .ptbody .ptr .ptd {\n            text-align: center;\n        }\n\n        .ptr {\n            border-bottom: 1px solid rgba(0, 0, 0, 0.12);\n        }\n\n        .ptr.hightlight {\n            background-color: yellow !important;\n        }\n\n        .ptd, .pth {\n            padding: 0.2rem 0.6rem;\n            display: table-cell;\n            text-align: right;\n            vertical-align: middle;\n            border-radius: 2px;\n            position: relative;\n        }\n\n        .ptr.grey {\n            background-color: grey !important;\n        }\n\n        .ptr.strikeout .ptd:before {\n            content: \" \";\n            position: absolute;\n            top: 50%;\n            left: 0;\n            border-bottom: 1px solid #111;\n            width: 100%;\n        }\n\n        .widget-toggle-button {\n            display: inline-flex;\n            -webkit-box-align: center;\n            align-items: center;\n            -webkit-box-pack: center;\n            justify-content: center;\n            box-sizing: border-box;\n            -webkit-tap-highlight-color: transparent;\n            background-color: transparent !important;\n            outline: 0px;\n            border: 0px;\n            border-bottom: 2px solid #E4E4E4 !important;\n            box-shadow: none !important;\n            margin: 0px !important;\n            border-radius: 0px;\n            cursor: pointer;\n            user-select: none;\n            vertical-align: middle;\n            appearance: none;\n            text-decoration: none;\n            font-family: Roboto, Helvetica, Arial, sans-serif;\n            font-weight: 500;\n            font-size: 14px;\n            line-height: 1.25;\n            letter-spacing: 0.02857em;\n            max-width: 360px;\n            min-width: 90px;\n            position: relative;\n            min-height: 48px;\n            flex-shrink: 0;\n            padding: 12px 16px;\n            overflow: hidden;\n            white-space: normal;\n            text-align: center;\n            flex-direction: column;\n            color: rgba(0, 0, 0, 0.6);\n        }\n\n        .narrow-accordion .jupyter-widget-Accordion-child .jupyter-widget-Collapse-header{\n            padding: 5px;\n        }  \n\n        .mod-active {\n            color: rgb(25, 118, 210) !important;\n            border-bottom: 2px solid rgb(25, 118, 210) !important;\n        }\n\n        .narrow-tab button {\n            max-width: 15%;\n        }\n\n        .narrow-tab-fairness button {\n            max-width: 20%;\n        }\n        .narrow-tab-fs button {\n            max-width: 25%;\n        }\n\n        .overflow-fix .jupyter-widgets {\n            overflow: auto;\n        }\n\n        .inner-padding {\n            padding-top: 20px;\n        }\n\n        .fix-img img {\n            width: 100%;\n        }\n\n        .fix-img-half img {\n            width: 50%;\n        }\n\n        .flex-reverse-for-update-button {\n            flex-direction: row-reverse;\n            margin-right: 50px;\n        }\n\n        .data-summary-tab {\n            max-height: 400px;\n        }\n\n        .restricted_table_height {\n            max-height: 450px\n        }\n\n        .input-width-with-parent .widget-dropdown {\n            width: 100%;\n        }\n\n        .input-width-with-parent .widget-text {\n            width: 100%;\n        }\n\n        .no-margin {\n            margin: 0px;\n        }\n\n        .widget-hprogress label {\n            text-align: left;\n        }\n\n        .widget-dropdown label {\n            margin-right: 10px;\n        }\n\n        .form .widget-dropdown {\n            width: auto;\n        }\n\n        .form .widget-text {\n            width: auto;\n        }\n\n        .form p {\n            margin: 0px;\n        }\n\n        .widget-dropdown {\n            white-space: nowrap;\n            overflow: hidden;\n            -o-text-overflow: ellipsis;\n            -ms-text-overflow: ellipsis;\n            text-overflow: ellipsis;\n        }\n\n        .progress-train label {\n            margin-right: 10px;\n        }\n\n        select {\n            height: 97% !important;\n        }\n\n        .no-overflow {\n            overflow: none;\n        }\n\n        .split-btn button {\n            margin-bottom: 2px;\n        }\n\n        .register-btn {\n            width: 50%\n        }\n\n        .register-btn-colab {\n            width: 40%\n        }\n\n        .fix-config-from-overflow .jp-OutputArea-child {\n            display: inherit;\n        }\n        \n        .checkbox-center input[type=\"checkbox\"] {\n            vertical-align: middle;\n        }\n\n        input[type=\"checkbox\"] {\n            vertical-align: middle;\n        }\n\n        </style>\n        "
          }
        },
        "49081da922674675a28896fe21a37c18": {
          "model_module": "@jupyter-widgets/controls",
          "model_module_version": "1.5.0",
          "model_name": "DescriptionStyleModel",
          "state": {
            "_model_module": "@jupyter-widgets/controls",
            "_model_module_version": "1.5.0",
            "_model_name": "DescriptionStyleModel",
            "_view_count": null,
            "_view_module": "@jupyter-widgets/base",
            "_view_module_version": "1.2.0",
            "_view_name": "StyleView",
            "description_width": ""
          }
        },
        "707027f88d8c4d18b36da657ada4cb1a": {
          "model_module": "@jupyter-widgets/controls",
          "model_module_version": "1.5.0",
          "model_name": "HTMLModel",
          "state": {
            "_dom_classes": [],
            "_model_module": "@jupyter-widgets/controls",
            "_model_module_version": "1.5.0",
            "_model_name": "HTMLModel",
            "_view_count": null,
            "_view_module": "@jupyter-widgets/controls",
            "_view_module_version": "1.5.0",
            "_view_name": "HTMLView",
            "description": "",
            "description_tooltip": null,
            "layout": "IPY_MODEL_d4a9fd0369a940088318eed1fc84187f",
            "placeholder": "​",
            "style": "IPY_MODEL_d93f96a0b77844c39a869d97b15c3b31",
            "value": "\n        <style>\n\n        .left-label {\n            width: 30%;\n        }\n\n        .card-panel {\n            -webkit-transition: -webkit-box-shadow .25s;\n            transition: -webkit-box-shadow .25s;\n            transition: box-shadow .25s;\n            transition: box-shadow .25s, -webkit-box-shadow .25s;\n            padding: 24px;\n            margin: 0.5rem 0 1rem 0;\n            border-radius: 2px;\n            background-color: #fff;\n        }\n\n        .card {\n            position: relative;\n            margin: 0.5rem 0.1rem 1rem 0.2rem;\n            background-color: #fff;\n            -webkit-transition: -webkit-box-shadow .25s;\n            transition: -webkit-box-shadow .25s;\n            transition: box-shadow .25s;\n            transition: box-shadow .25s, -webkit-box-shadow .25s;\n            border-radius: 2px;\n            box-shadow: 0 2px 2px 0 rgb(0 0 0 / 14%), 0 3px 1px -2px rgb(0 0 0 / 12%), 0 1px 5px 0 rgb(0 0 0 / 20%);\n            padding: 24px;\n            color: white;\n        }\n\n        .card .card-title {\n            font-size: 24px;\n            font-weight: 300;\n        }\n\n        @media only screen and (min-width: 800px) {\n            /* For notebook: */\n            .card {width: 99% !important;}\n        }\n\n        @media only screen and (min-width: 1400px) {\n            /* For colab: */\n            .card {width: 99% !important;}\n        }\n\n        .blue-grey.darken-1 {\n            background-color: #546e7a !important;\n        }\n\n        .small-card {\n            position: relative;\n            margin: 0.5rem 0 1rem 0;\n            background-color: #fff;\n            -webkit-transition: -webkit-box-shadow .25s;\n            transition: -webkit-box-shadow .25s;\n            transition: box-shadow .25s;\n            transition: box-shadow .25s, -webkit-box-shadow .25s;\n            border-radius: 2px;\n            box-shadow: 0 2px 2px 0 rgb(0 0 0 / 14%), 0 3px 1px -2px rgb(0 0 0 / 12%), 0 1px 5px 0 rgb(0 0 0 / 20%);\n            padding: 0px 5px 0px 5px;\n            color: white;\n        }\n\n        .inner-card {\n            position: relative;\n            background-color: #fff;\n            -webkit-transition: -webkit-box-shadow .25s;\n            transition: -webkit-box-shadow .25s;\n            transition: box-shadow .25s;\n            transition: box-shadow .25s, -webkit-box-shadow .25s;\n            border-radius: 2px;\n            box-shadow: 0 2px 2px 0 rgb(0 0 0 / 14%), 0 3px 1px -2px rgb(0 0 0 / 12%), 0 1px 5px 0 rgb(0 0 0 / 20%);\n            padding: 20px;\n            color: white;\n            margin: 0px 1px 1px 1px;\n        }\n\n        .card-with-tab {\n            position: relative;\n            margin: 0.5rem 0.1rem 1rem 0.2rem;\n            background-color: #fff;\n            -webkit-transition: -webkit-box-shadow .25s;\n            transition: -webkit-box-shadow .25s;\n            transition: box-shadow .25s;\n            transition: box-shadow .25s, -webkit-box-shadow .25s;\n            border-radius: 2px;\n            box-shadow: 0 2px 2px 0 rgb(0 0 0 / 14%), 0 3px 1px -2px rgb(0 0 0 / 12%), 0 1px 5px 0 rgb(0 0 0 / 20%);\n            padding: 24px;\n            color: white;\n        }\n\n        .card-with-tab button {\n            width: auto;\n            padding: 12px 40px;\n        }\n\n        .list {\n            padding: 0px 10px;\n            box-shadow: 0 2px 2px 0 rgb(0 0 0 / 14%), 0 3px 1px -2px rgb(0 0 0 / 12%), 0 1px 5px 0 rgb(0 0 0 / 20%);\n            margin: 0px 1px 60px 1px;\n        }\n\n        .list-item {\n            padding: 10px 0px;\n            border-width: 0;\n            border-style: solid;\n            border-color: rgba(0, 0, 0, 0.08);\n            border-bottom-width: thin;\n        }\n\n        .divider {\n            margin: 10px 0px;\n            border-width: 0;\n            border-style: solid;\n            border-color: rgba(0, 0, 0, 0.08);\n            border-bottom-width: thin;\n        }\n\n        .hr {\n            margin: 0;\n            -webkit-flex-shrink: 0;\n            -ms-flex-negative: 0;\n            flex-shrink: 0;\n            border-width: 0;\n            border-style: solid;\n            border-color: rgba(0, 0, 0, 0.08);\n            border-bottom-width: thin;\n        }\n\n        .notification {\n            transition: box-shadow 300ms cubic-bezier(0.4, 0, 0.2, 1) 0ms;\n            border-radius: 4px;\n            box-shadow: 0 2px 2px 0 rgb(0 0 0 / 14%), 0 3px 1px -2px rgb(0 0 0 / 12%), 0 1px 5px 0 rgb(0 0 0 / 20%);\n            font-family: Roboto, Helvetica, Arial, sans-serif;\n            font-weight: 500;\n            font-size: 12px;\n            line-height: 1.43;\n            letter-spacing: 0.01071em;\n            background-color: rgb(2, 136, 209);\n            display: flex;\n            padding: 6px 16px;\n            color: rgb(255, 255, 255);\n            margin-top: 10px;\n        }\n\n        .success {\n            background-color: #EDF7ED;\n            color: #1E4620;\n        }\n\n        .error {\n            background-color: #FDEDED;\n            color: #5F2120;\n        }\n\n        .info {\n            background-color: #E5F6FD;\n            color: #528298;\n        }\n\n        .warn {\n            background-color: #FFF4E5;\n            color: #663C00;\n        }\n\n        .margin-top-20 {\n            margin-top: 20px;\n        }\n\n        .hide {\n            display: none;\n        }\n\n        .pbtn {\n            display: inline-flex;\n            -webkit-box-align: center;\n            align-items: center;\n            -webkit-box-pack: center;\n            justify-content: center;\n            position: relative;\n            box-sizing: border-box;\n            -webkit-tap-highlight-color: transparent;\n            outline: 0px;\n            border: 0px;\n            margin: 0px;\n            cursor: pointer;\n            user-select: none;\n            vertical-align: middle;\n            appearance: none;\n            text-decoration: none;\n            font-family: Roboto, Helvetica, Arial, sans-serif;\n            font-weight: 550;\n            font-size: 12px;\n            line-height: 1.75;\n            letter-spacing: 0.02857em;\n            text-transform: uppercase;\n            min-width: 64px;\n            padding: 6px 16px;\n            border-radius: 4px;\n            transition: background-color 250ms cubic-bezier(0.4, 0, 0.2, 1) 0ms, box-shadow 250ms cubic-bezier(0.4, 0, 0.2, 1) 0ms, border-color 250ms cubic-bezier(0.4, 0, 0.2, 1) 0ms, color 250ms cubic-bezier(0.4, 0, 0.2, 1) 0ms;\n            color: rgb(255, 255, 255);\n            background-color: #D71E28;\n            box-shadow: rgb(0 0 0 / 20%) 0px 3px 1px -2px, rgb(0 0 0 / 14%) 0px 2px 2px 0px, rgb(0 0 0 / 12%) 0px 1px 5px 0px;\n        }\n\n        .jp-OutputArea-output {\n            flex-grow: 1;\n            flex-shrink: 1;\n            margin: 0px;\n        }\n\n        .output_subarea {\n            padding: 0px !important;\n        }\n\n        .ptable, .pth, .ptd {\n            border: none;\n        }\n\n        .pth, .ptd {\n            max-width: 150px;\n            white-space: nowrap;\n            overflow: hidden;\n            -o-text-overflow: ellipsis;\n            -ms-text-overflow: ellipsis;\n            text-overflow: ellipsis;\n        }\n\n        .ptable {\n            display: table;\n            border-collapse: collapse;\n            border-spacing: 0;\n        }\n\n        .ptable.striped .ptr {\n            border-bottom: none;\n        }\n\n        .ptable.striped > .ptbody > .ptr:nth-child(odd) {\n            background-color: rgba(242, 242, 242, 0.5);\n        }\n\n        .ptable.striped > .ptbody > .ptr > .ptd {\n            border-radius: 0;\n        }\n\n        .ptable.highlight > .ptbody > .ptr {\n            -webkit-transition: background-color .25s ease;\n            transition: background-color .25s ease;\n        }\n\n        .ptable.highlight > .ptbody > .ptr:hover {\n            background-color: rgba(242, 242, 242, 0.5);\n        }\n\n        .ptable.centered .pthead .ptr .pth, .ptable.centered .ptbody .ptr .ptd {\n            text-align: center;\n        }\n\n        .ptr {\n            border-bottom: 1px solid rgba(0, 0, 0, 0.12);\n        }\n\n        .ptr.hightlight {\n            background-color: yellow !important;\n        }\n\n        .ptd, .pth {\n            padding: 0.2rem 0.6rem;\n            display: table-cell;\n            text-align: right;\n            vertical-align: middle;\n            border-radius: 2px;\n            position: relative;\n        }\n\n        .ptr.grey {\n            background-color: grey !important;\n        }\n\n        .ptr.strikeout .ptd:before {\n            content: \" \";\n            position: absolute;\n            top: 50%;\n            left: 0;\n            border-bottom: 1px solid #111;\n            width: 100%;\n        }\n\n        .widget-toggle-button {\n            display: inline-flex;\n            -webkit-box-align: center;\n            align-items: center;\n            -webkit-box-pack: center;\n            justify-content: center;\n            box-sizing: border-box;\n            -webkit-tap-highlight-color: transparent;\n            background-color: transparent !important;\n            outline: 0px;\n            border: 0px;\n            border-bottom: 2px solid #E4E4E4 !important;\n            box-shadow: none !important;\n            margin: 0px !important;\n            border-radius: 0px;\n            cursor: pointer;\n            user-select: none;\n            vertical-align: middle;\n            appearance: none;\n            text-decoration: none;\n            font-family: Roboto, Helvetica, Arial, sans-serif;\n            font-weight: 500;\n            font-size: 14px;\n            line-height: 1.25;\n            letter-spacing: 0.02857em;\n            max-width: 360px;\n            min-width: 90px;\n            position: relative;\n            min-height: 48px;\n            flex-shrink: 0;\n            padding: 12px 16px;\n            overflow: hidden;\n            white-space: normal;\n            text-align: center;\n            flex-direction: column;\n            color: rgba(0, 0, 0, 0.6);\n        }\n\n        .narrow-accordion .jupyter-widget-Accordion-child .jupyter-widget-Collapse-header{\n            padding: 5px;\n        }  \n\n        .mod-active {\n            color: rgb(25, 118, 210) !important;\n            border-bottom: 2px solid rgb(25, 118, 210) !important;\n        }\n\n        .narrow-tab button {\n            max-width: 15%;\n        }\n\n        .narrow-tab-fairness button {\n            max-width: 20%;\n        }\n        .narrow-tab-fs button {\n            max-width: 25%;\n        }\n\n        .overflow-fix .jupyter-widgets {\n            overflow: auto;\n        }\n\n        .inner-padding {\n            padding-top: 20px;\n        }\n\n        .fix-img img {\n            width: 100%;\n        }\n\n        .fix-img-half img {\n            width: 50%;\n        }\n\n        .flex-reverse-for-update-button {\n            flex-direction: row-reverse;\n            margin-right: 50px;\n        }\n\n        .data-summary-tab {\n            max-height: 400px;\n        }\n\n        .restricted_table_height {\n            max-height: 450px\n        }\n\n        .input-width-with-parent .widget-dropdown {\n            width: 100%;\n        }\n\n        .input-width-with-parent .widget-text {\n            width: 100%;\n        }\n\n        .no-margin {\n            margin: 0px;\n        }\n\n        .widget-hprogress label {\n            text-align: left;\n        }\n\n        .widget-dropdown label {\n            margin-right: 10px;\n        }\n\n        .form .widget-dropdown {\n            width: auto;\n        }\n\n        .form .widget-text {\n            width: auto;\n        }\n\n        .form p {\n            margin: 0px;\n        }\n\n        .widget-dropdown {\n            white-space: nowrap;\n            overflow: hidden;\n            -o-text-overflow: ellipsis;\n            -ms-text-overflow: ellipsis;\n            text-overflow: ellipsis;\n        }\n\n        .progress-train label {\n            margin-right: 10px;\n        }\n\n        select {\n            height: 97% !important;\n        }\n\n        .no-overflow {\n            overflow: none;\n        }\n\n        .split-btn button {\n            margin-bottom: 2px;\n        }\n\n        .register-btn {\n            width: 50%\n        }\n\n        .register-btn-colab {\n            width: 40%\n        }\n\n        .fix-config-from-overflow .jp-OutputArea-child {\n            display: inherit;\n        }\n        \n        .checkbox-center input[type=\"checkbox\"] {\n            vertical-align: middle;\n        }\n\n        input[type=\"checkbox\"] {\n            vertical-align: middle;\n        }\n\n        </style>\n        "
          }
        },
        "99f3a8322f0949468f49d0fd0daca719": {
          "model_module": "@jupyter-widgets/controls",
          "model_module_version": "1.5.0",
          "model_name": "DescriptionStyleModel",
          "state": {
            "_model_module": "@jupyter-widgets/controls",
            "_model_module_version": "1.5.0",
            "_model_name": "DescriptionStyleModel",
            "_view_count": null,
            "_view_module": "@jupyter-widgets/base",
            "_view_module_version": "1.2.0",
            "_view_name": "StyleView",
            "description_width": ""
          }
        },
        "b24ff9a01c6e4fa2bd612de9fbf6ffbf": {
          "model_module": "@jupyter-widgets/controls",
          "model_module_version": "1.5.0",
          "model_name": "HTMLModel",
          "state": {
            "_dom_classes": [],
            "_model_module": "@jupyter-widgets/controls",
            "_model_module_version": "1.5.0",
            "_model_name": "HTMLModel",
            "_view_count": null,
            "_view_module": "@jupyter-widgets/controls",
            "_view_module_version": "1.5.0",
            "_view_name": "HTMLView",
            "description": "",
            "description_tooltip": null,
            "layout": "IPY_MODEL_cc0cef68aa6e4f6387ab16457440ff62",
            "placeholder": "​",
            "style": "IPY_MODEL_49081da922674675a28896fe21a37c18",
            "value": "\n        <style>\n\n        .left-label {\n            width: 30%;\n        }\n\n        .card-panel {\n            -webkit-transition: -webkit-box-shadow .25s;\n            transition: -webkit-box-shadow .25s;\n            transition: box-shadow .25s;\n            transition: box-shadow .25s, -webkit-box-shadow .25s;\n            padding: 24px;\n            margin: 0.5rem 0 1rem 0;\n            border-radius: 2px;\n            background-color: #fff;\n        }\n\n        .card {\n            position: relative;\n            margin: 0.5rem 0.1rem 1rem 0.2rem;\n            background-color: #fff;\n            -webkit-transition: -webkit-box-shadow .25s;\n            transition: -webkit-box-shadow .25s;\n            transition: box-shadow .25s;\n            transition: box-shadow .25s, -webkit-box-shadow .25s;\n            border-radius: 2px;\n            box-shadow: 0 2px 2px 0 rgb(0 0 0 / 14%), 0 3px 1px -2px rgb(0 0 0 / 12%), 0 1px 5px 0 rgb(0 0 0 / 20%);\n            padding: 24px;\n            color: white;\n        }\n\n        .card .card-title {\n            font-size: 24px;\n            font-weight: 300;\n        }\n\n        @media only screen and (min-width: 800px) {\n            /* For notebook: */\n            .card {width: 99% !important;}\n        }\n\n        @media only screen and (min-width: 1400px) {\n            /* For colab: */\n            .card {width: 99% !important;}\n        }\n\n        .blue-grey.darken-1 {\n            background-color: #546e7a !important;\n        }\n\n        .small-card {\n            position: relative;\n            margin: 0.5rem 0 1rem 0;\n            background-color: #fff;\n            -webkit-transition: -webkit-box-shadow .25s;\n            transition: -webkit-box-shadow .25s;\n            transition: box-shadow .25s;\n            transition: box-shadow .25s, -webkit-box-shadow .25s;\n            border-radius: 2px;\n            box-shadow: 0 2px 2px 0 rgb(0 0 0 / 14%), 0 3px 1px -2px rgb(0 0 0 / 12%), 0 1px 5px 0 rgb(0 0 0 / 20%);\n            padding: 0px 5px 0px 5px;\n            color: white;\n        }\n\n        .inner-card {\n            position: relative;\n            background-color: #fff;\n            -webkit-transition: -webkit-box-shadow .25s;\n            transition: -webkit-box-shadow .25s;\n            transition: box-shadow .25s;\n            transition: box-shadow .25s, -webkit-box-shadow .25s;\n            border-radius: 2px;\n            box-shadow: 0 2px 2px 0 rgb(0 0 0 / 14%), 0 3px 1px -2px rgb(0 0 0 / 12%), 0 1px 5px 0 rgb(0 0 0 / 20%);\n            padding: 20px;\n            color: white;\n            margin: 0px 1px 1px 1px;\n        }\n\n        .card-with-tab {\n            position: relative;\n            margin: 0.5rem 0.1rem 1rem 0.2rem;\n            background-color: #fff;\n            -webkit-transition: -webkit-box-shadow .25s;\n            transition: -webkit-box-shadow .25s;\n            transition: box-shadow .25s;\n            transition: box-shadow .25s, -webkit-box-shadow .25s;\n            border-radius: 2px;\n            box-shadow: 0 2px 2px 0 rgb(0 0 0 / 14%), 0 3px 1px -2px rgb(0 0 0 / 12%), 0 1px 5px 0 rgb(0 0 0 / 20%);\n            padding: 24px;\n            color: white;\n        }\n\n        .card-with-tab button {\n            width: auto;\n            padding: 12px 40px;\n        }\n\n        .list {\n            padding: 0px 10px;\n            box-shadow: 0 2px 2px 0 rgb(0 0 0 / 14%), 0 3px 1px -2px rgb(0 0 0 / 12%), 0 1px 5px 0 rgb(0 0 0 / 20%);\n            margin: 0px 1px 60px 1px;\n        }\n\n        .list-item {\n            padding: 10px 0px;\n            border-width: 0;\n            border-style: solid;\n            border-color: rgba(0, 0, 0, 0.08);\n            border-bottom-width: thin;\n        }\n\n        .divider {\n            margin: 10px 0px;\n            border-width: 0;\n            border-style: solid;\n            border-color: rgba(0, 0, 0, 0.08);\n            border-bottom-width: thin;\n        }\n\n        .hr {\n            margin: 0;\n            -webkit-flex-shrink: 0;\n            -ms-flex-negative: 0;\n            flex-shrink: 0;\n            border-width: 0;\n            border-style: solid;\n            border-color: rgba(0, 0, 0, 0.08);\n            border-bottom-width: thin;\n        }\n\n        .notification {\n            transition: box-shadow 300ms cubic-bezier(0.4, 0, 0.2, 1) 0ms;\n            border-radius: 4px;\n            box-shadow: 0 2px 2px 0 rgb(0 0 0 / 14%), 0 3px 1px -2px rgb(0 0 0 / 12%), 0 1px 5px 0 rgb(0 0 0 / 20%);\n            font-family: Roboto, Helvetica, Arial, sans-serif;\n            font-weight: 500;\n            font-size: 12px;\n            line-height: 1.43;\n            letter-spacing: 0.01071em;\n            background-color: rgb(2, 136, 209);\n            display: flex;\n            padding: 6px 16px;\n            color: rgb(255, 255, 255);\n            margin-top: 10px;\n        }\n\n        .success {\n            background-color: #EDF7ED;\n            color: #1E4620;\n        }\n\n        .error {\n            background-color: #FDEDED;\n            color: #5F2120;\n        }\n\n        .info {\n            background-color: #E5F6FD;\n            color: #528298;\n        }\n\n        .warn {\n            background-color: #FFF4E5;\n            color: #663C00;\n        }\n\n        .margin-top-20 {\n            margin-top: 20px;\n        }\n\n        .hide {\n            display: none;\n        }\n\n        .pbtn {\n            display: inline-flex;\n            -webkit-box-align: center;\n            align-items: center;\n            -webkit-box-pack: center;\n            justify-content: center;\n            position: relative;\n            box-sizing: border-box;\n            -webkit-tap-highlight-color: transparent;\n            outline: 0px;\n            border: 0px;\n            margin: 0px;\n            cursor: pointer;\n            user-select: none;\n            vertical-align: middle;\n            appearance: none;\n            text-decoration: none;\n            font-family: Roboto, Helvetica, Arial, sans-serif;\n            font-weight: 550;\n            font-size: 12px;\n            line-height: 1.75;\n            letter-spacing: 0.02857em;\n            text-transform: uppercase;\n            min-width: 64px;\n            padding: 6px 16px;\n            border-radius: 4px;\n            transition: background-color 250ms cubic-bezier(0.4, 0, 0.2, 1) 0ms, box-shadow 250ms cubic-bezier(0.4, 0, 0.2, 1) 0ms, border-color 250ms cubic-bezier(0.4, 0, 0.2, 1) 0ms, color 250ms cubic-bezier(0.4, 0, 0.2, 1) 0ms;\n            color: rgb(255, 255, 255);\n            background-color: #D71E28;\n            box-shadow: rgb(0 0 0 / 20%) 0px 3px 1px -2px, rgb(0 0 0 / 14%) 0px 2px 2px 0px, rgb(0 0 0 / 12%) 0px 1px 5px 0px;\n        }\n\n        .jp-OutputArea-output {\n            flex-grow: 1;\n            flex-shrink: 1;\n            margin: 0px;\n        }\n\n        .output_subarea {\n            padding: 0px !important;\n        }\n\n        .ptable, .pth, .ptd {\n            border: none;\n        }\n\n        .pth, .ptd {\n            max-width: 150px;\n            white-space: nowrap;\n            overflow: hidden;\n            -o-text-overflow: ellipsis;\n            -ms-text-overflow: ellipsis;\n            text-overflow: ellipsis;\n        }\n\n        .ptable {\n            display: table;\n            border-collapse: collapse;\n            border-spacing: 0;\n        }\n\n        .ptable.striped .ptr {\n            border-bottom: none;\n        }\n\n        .ptable.striped > .ptbody > .ptr:nth-child(odd) {\n            background-color: rgba(242, 242, 242, 0.5);\n        }\n\n        .ptable.striped > .ptbody > .ptr > .ptd {\n            border-radius: 0;\n        }\n\n        .ptable.highlight > .ptbody > .ptr {\n            -webkit-transition: background-color .25s ease;\n            transition: background-color .25s ease;\n        }\n\n        .ptable.highlight > .ptbody > .ptr:hover {\n            background-color: rgba(242, 242, 242, 0.5);\n        }\n\n        .ptable.centered .pthead .ptr .pth, .ptable.centered .ptbody .ptr .ptd {\n            text-align: center;\n        }\n\n        .ptr {\n            border-bottom: 1px solid rgba(0, 0, 0, 0.12);\n        }\n\n        .ptr.hightlight {\n            background-color: yellow !important;\n        }\n\n        .ptd, .pth {\n            padding: 0.2rem 0.6rem;\n            display: table-cell;\n            text-align: right;\n            vertical-align: middle;\n            border-radius: 2px;\n            position: relative;\n        }\n\n        .ptr.grey {\n            background-color: grey !important;\n        }\n\n        .ptr.strikeout .ptd:before {\n            content: \" \";\n            position: absolute;\n            top: 50%;\n            left: 0;\n            border-bottom: 1px solid #111;\n            width: 100%;\n        }\n\n        .widget-toggle-button {\n            display: inline-flex;\n            -webkit-box-align: center;\n            align-items: center;\n            -webkit-box-pack: center;\n            justify-content: center;\n            box-sizing: border-box;\n            -webkit-tap-highlight-color: transparent;\n            background-color: transparent !important;\n            outline: 0px;\n            border: 0px;\n            border-bottom: 2px solid #E4E4E4 !important;\n            box-shadow: none !important;\n            margin: 0px !important;\n            border-radius: 0px;\n            cursor: pointer;\n            user-select: none;\n            vertical-align: middle;\n            appearance: none;\n            text-decoration: none;\n            font-family: Roboto, Helvetica, Arial, sans-serif;\n            font-weight: 500;\n            font-size: 14px;\n            line-height: 1.25;\n            letter-spacing: 0.02857em;\n            max-width: 360px;\n            min-width: 90px;\n            position: relative;\n            min-height: 48px;\n            flex-shrink: 0;\n            padding: 12px 16px;\n            overflow: hidden;\n            white-space: normal;\n            text-align: center;\n            flex-direction: column;\n            color: rgba(0, 0, 0, 0.6);\n        }\n\n        .narrow-accordion .jupyter-widget-Accordion-child .jupyter-widget-Collapse-header{\n            padding: 5px;\n        }  \n\n        .mod-active {\n            color: rgb(25, 118, 210) !important;\n            border-bottom: 2px solid rgb(25, 118, 210) !important;\n        }\n\n        .narrow-tab button {\n            max-width: 15%;\n        }\n\n        .narrow-tab-fairness button {\n            max-width: 20%;\n        }\n        .narrow-tab-fs button {\n            max-width: 25%;\n        }\n\n        .overflow-fix .jupyter-widgets {\n            overflow: auto;\n        }\n\n        .inner-padding {\n            padding-top: 20px;\n        }\n\n        .fix-img img {\n            width: 100%;\n        }\n\n        .fix-img-half img {\n            width: 50%;\n        }\n\n        .flex-reverse-for-update-button {\n            flex-direction: row-reverse;\n            margin-right: 50px;\n        }\n\n        .data-summary-tab {\n            max-height: 400px;\n        }\n\n        .restricted_table_height {\n            max-height: 450px\n        }\n\n        .input-width-with-parent .widget-dropdown {\n            width: 100%;\n        }\n\n        .input-width-with-parent .widget-text {\n            width: 100%;\n        }\n\n        .no-margin {\n            margin: 0px;\n        }\n\n        .widget-hprogress label {\n            text-align: left;\n        }\n\n        .widget-dropdown label {\n            margin-right: 10px;\n        }\n\n        .form .widget-dropdown {\n            width: auto;\n        }\n\n        .form .widget-text {\n            width: auto;\n        }\n\n        .form p {\n            margin: 0px;\n        }\n\n        .widget-dropdown {\n            white-space: nowrap;\n            overflow: hidden;\n            -o-text-overflow: ellipsis;\n            -ms-text-overflow: ellipsis;\n            text-overflow: ellipsis;\n        }\n\n        .progress-train label {\n            margin-right: 10px;\n        }\n\n        select {\n            height: 97% !important;\n        }\n\n        .no-overflow {\n            overflow: none;\n        }\n\n        .split-btn button {\n            margin-bottom: 2px;\n        }\n\n        .register-btn {\n            width: 50%\n        }\n\n        .register-btn-colab {\n            width: 40%\n        }\n\n        .fix-config-from-overflow .jp-OutputArea-child {\n            display: inherit;\n        }\n        \n        .checkbox-center input[type=\"checkbox\"] {\n            vertical-align: middle;\n        }\n\n        input[type=\"checkbox\"] {\n            vertical-align: middle;\n        }\n\n        </style>\n        "
          }
        },
        "cc0cef68aa6e4f6387ab16457440ff62": {
          "model_module": "@jupyter-widgets/base",
          "model_module_version": "1.2.0",
          "model_name": "LayoutModel",
          "state": {
            "_model_module": "@jupyter-widgets/base",
            "_model_module_version": "1.2.0",
            "_model_name": "LayoutModel",
            "_view_count": null,
            "_view_module": "@jupyter-widgets/base",
            "_view_module_version": "1.2.0",
            "_view_name": "LayoutView",
            "align_content": null,
            "align_items": null,
            "align_self": null,
            "border": null,
            "bottom": null,
            "display": null,
            "flex": null,
            "flex_flow": null,
            "grid_area": null,
            "grid_auto_columns": null,
            "grid_auto_flow": null,
            "grid_auto_rows": null,
            "grid_column": null,
            "grid_gap": null,
            "grid_row": null,
            "grid_template_areas": null,
            "grid_template_columns": null,
            "grid_template_rows": null,
            "height": null,
            "justify_content": null,
            "justify_items": null,
            "left": null,
            "margin": null,
            "max_height": null,
            "max_width": null,
            "min_height": null,
            "min_width": null,
            "object_fit": null,
            "object_position": null,
            "order": null,
            "overflow": null,
            "overflow_x": null,
            "overflow_y": null,
            "padding": null,
            "right": null,
            "top": null,
            "visibility": null,
            "width": null
          }
        },
        "d4a9fd0369a940088318eed1fc84187f": {
          "model_module": "@jupyter-widgets/base",
          "model_module_version": "1.2.0",
          "model_name": "LayoutModel",
          "state": {
            "_model_module": "@jupyter-widgets/base",
            "_model_module_version": "1.2.0",
            "_model_name": "LayoutModel",
            "_view_count": null,
            "_view_module": "@jupyter-widgets/base",
            "_view_module_version": "1.2.0",
            "_view_name": "LayoutView",
            "align_content": null,
            "align_items": null,
            "align_self": null,
            "border": null,
            "bottom": null,
            "display": null,
            "flex": null,
            "flex_flow": null,
            "grid_area": null,
            "grid_auto_columns": null,
            "grid_auto_flow": null,
            "grid_auto_rows": null,
            "grid_column": null,
            "grid_gap": null,
            "grid_row": null,
            "grid_template_areas": null,
            "grid_template_columns": null,
            "grid_template_rows": null,
            "height": null,
            "justify_content": null,
            "justify_items": null,
            "left": null,
            "margin": null,
            "max_height": null,
            "max_width": null,
            "min_height": null,
            "min_width": null,
            "object_fit": null,
            "object_position": null,
            "order": null,
            "overflow": null,
            "overflow_x": null,
            "overflow_y": null,
            "padding": null,
            "right": null,
            "top": null,
            "visibility": null,
            "width": null
          }
        },
        "d93f96a0b77844c39a869d97b15c3b31": {
          "model_module": "@jupyter-widgets/controls",
          "model_module_version": "1.5.0",
          "model_name": "DescriptionStyleModel",
          "state": {
            "_model_module": "@jupyter-widgets/controls",
            "_model_module_version": "1.5.0",
            "_model_name": "DescriptionStyleModel",
            "_view_count": null,
            "_view_module": "@jupyter-widgets/base",
            "_view_module_version": "1.2.0",
            "_view_name": "StyleView",
            "description_width": ""
          }
        }
      }
    }
  },
  "nbformat": 4,
  "nbformat_minor": 0
}
